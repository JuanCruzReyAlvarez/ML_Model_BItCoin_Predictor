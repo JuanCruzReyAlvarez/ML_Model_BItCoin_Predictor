{
 "cells": [
  {
   "cell_type": "code",
   "execution_count": 1,
   "id": "deab55ba",
   "metadata": {},
   "outputs": [],
   "source": [
    "from selenium import webdriver \n",
    "from selenium.webdriver.support.ui import WebDriverWait\n",
    "from selenium.webdriver.common.by import By\n",
    "from selenium.webdriver.support import expected_conditions as EC"
   ]
  },
  {
   "cell_type": "code",
   "execution_count": 2,
   "id": "fe4e772a",
   "metadata": {},
   "outputs": [],
   "source": [
    "#Realizamos los imports necesarios para trabajar con diversos componentes de la biblioteca selenium."
   ]
  },
  {
   "cell_type": "code",
   "execution_count": 3,
   "id": "aea1d817",
   "metadata": {},
   "outputs": [
    {
     "name": "stderr",
     "output_type": "stream",
     "text": [
      "C:\\Users\\juandata\\AppData\\Local\\Temp\\ipykernel_21568\\4186925906.py:2: DeprecationWarning: executable_path has been deprecated, please pass in a Service object\n",
      "  driver = webdriver.Chrome(executable_path = DRIVER_PATH)\n"
     ]
    }
   ],
   "source": [
    "DRIVER_PATH = 'C:\\webdrivers\\chromedriver.exe'\n",
    "driver = webdriver.Chrome(executable_path = DRIVER_PATH)"
   ]
  },
  {
   "cell_type": "code",
   "execution_count": 4,
   "id": "1e8767ea",
   "metadata": {},
   "outputs": [],
   "source": [
    "driver.get('https://zipmex.com/learn/bitcoin-price-prediction/')"
   ]
  },
  {
   "cell_type": "code",
   "execution_count": 5,
   "id": "232292f1",
   "metadata": {},
   "outputs": [],
   "source": [
    "## Configuramos un path a nuestra ruta donde tenemos instalado el web driver que nos ayudara a poder parsear informacion desde la web.\n",
    "## En este caso utilizamos Google, y accedemos  a una pagina que actualiza buena informacion en fromato String  de la evolucion de la moneda\n",
    "##Bitcoin."
   ]
  },
  {
   "cell_type": "code",
   "execution_count": 6,
   "id": "af78cc69",
   "metadata": {},
   "outputs": [],
   "source": [
    "html_list = driver.find_element(By.ID,\"article-learn__content\")\n",
    "items = html_list.find_elements(By.TAG_NAME,\"li\")"
   ]
  },
  {
   "cell_type": "code",
   "execution_count": 7,
   "id": "00fb4b1d",
   "metadata": {},
   "outputs": [],
   "source": [
    "## Extraemos una lista de oraciones de la pagina de la cual filtramos por id, siendo id el nombre perteneciente al LI del html buscado."
   ]
  },
  {
   "cell_type": "code",
   "execution_count": 8,
   "id": "13f4c85f",
   "metadata": {},
   "outputs": [
    {
     "name": "stdout",
     "output_type": "stream",
     "text": [
      "Despite the bear market, Elon Musk still holds over US$218 million of Bitcoin, as reported by Decrypt.\n",
      "BTC current price is US$20,124.30 as of 28 October with a 24-hour trading volume of US$923.07 million.\n",
      "Based on Bloomberg, Bitcoin retail trading will be legalized in Hong Kong despite the crypto ban in China.\n",
      "Ethereum Price Prediction 2022 – According To The Experts\n",
      "Solana (SOL) Price Prediction In 2022 – Should You Buy SOL Now?\n",
      "Binance Coin (BNB) Price Prediction 2022\n"
     ]
    }
   ],
   "source": [
    "for item in items:\n",
    "    text = item.text\n",
    "    print(text)"
   ]
  },
  {
   "cell_type": "code",
   "execution_count": 9,
   "id": "7c21fad5",
   "metadata": {},
   "outputs": [],
   "source": [
    "#Nos damos cuenta que viene informacion d emas, es decir debe estar tomando otro li con el mismo nombre de id, d eotro lado de la pagina, \n",
    "#por lo tanto lo limpiamos para quedarnos con lo que deseamos."
   ]
  },
  {
   "cell_type": "code",
   "execution_count": 10,
   "id": "246e4b82",
   "metadata": {},
   "outputs": [
    {
     "name": "stdout",
     "output_type": "stream",
     "text": [
      "Despite the bear market, Elon Musk still holds over US$218 million of Bitcoin, as reported by Decrypt.\n",
      "BTC current price is US$20,124.30 as of 28 October with a 24-hour trading volume of US$923.07 million.\n",
      "Based on Bloomberg, Bitcoin retail trading will be legalized in Hong Kong despite the crypto ban in China.\n"
     ]
    }
   ],
   "source": [
    "bitcoinNewsGoogle = []\n",
    "for i in range (0,3):\n",
    "    bitcoinNewsGoogle.append(items[i].text);\n",
    "    \n",
    "for i in bitcoinNewsGoogle:\n",
    "    print(i)"
   ]
  },
  {
   "cell_type": "code",
   "execution_count": 11,
   "id": "19312ab4",
   "metadata": {},
   "outputs": [],
   "source": [
    "# Efectivamente ya tenemos la informacion extraida de la moneda bitcoin desde una pagina de Chrome.Y esta guardada\n",
    "# en la variable bitcoinNewsGoogle para poder procesarla. "
   ]
  },
  {
   "cell_type": "code",
   "execution_count": 12,
   "id": "9fcad37f",
   "metadata": {},
   "outputs": [],
   "source": [
    "##-------------------------------------------------------------------------------------------------------------------------------------------##"
   ]
  },
  {
   "cell_type": "code",
   "execution_count": 13,
   "id": "3107400e",
   "metadata": {},
   "outputs": [],
   "source": [
    "##-------------------------------------------------------------------------------------------------------------------------------------------##"
   ]
  },
  {
   "cell_type": "code",
   "execution_count": 14,
   "id": "f4aae7c4",
   "metadata": {},
   "outputs": [],
   "source": [
    "##Ahora buscaremos infromacion desde otra fuente de alimentacion como exije el tp, elejimos como segunda fuente a Bing.com"
   ]
  },
  {
   "cell_type": "code",
   "execution_count": 15,
   "id": "245df441",
   "metadata": {},
   "outputs": [],
   "source": [
    "driver.get('https://www.newsbtc.com/news/bitcoin/')"
   ]
  },
  {
   "cell_type": "code",
   "execution_count": 16,
   "id": "a50de2ca",
   "metadata": {},
   "outputs": [],
   "source": [
    "## Configuramos un path a nuestra ruta donde tenemos instalaod el web driver que nos ayudara a poder parsear informacion desde la web.\n",
    "## En este caso utilizamos Bing, y accedemos  a una pagina que actualiza buena informacion en fromato String  de la evolucion de la moneda\n",
    "##Bitcoin."
   ]
  },
  {
   "cell_type": "code",
   "execution_count": 17,
   "id": "3e6c2e2b",
   "metadata": {},
   "outputs": [],
   "source": [
    "list_bing = []\n",
    "try:\n",
    "    list_bing = driver.find_elements(By.CLASS_NAME,\"jeg_post_title\")\n",
    "except:\n",
    "    print(\"No such element with that class present\")"
   ]
  },
  {
   "cell_type": "code",
   "execution_count": 18,
   "id": "bbac2df1",
   "metadata": {},
   "outputs": [],
   "source": [
    "#Buscamos los elementos de esa pagina mediante el nombre de una clase y los guardamos en una variable de tipo lista.\n",
    "#Para ser mas expresivos realizamos un try y describimos la except en caso de que falle."
   ]
  },
  {
   "cell_type": "code",
   "execution_count": 19,
   "id": "0cdaa5bc",
   "metadata": {},
   "outputs": [
    {
     "name": "stdout",
     "output_type": "stream",
     "text": [
      "Trick Or Treat For Bitcoin On Halloween Night? | BTCUSD Analysis October 31, 2022\n",
      "Bitcoin Nearing Retest Of Realized Price, Will Bulls Break Resistance This Time?\n",
      "Why Bitcoin Will Crush Opposition At $21,000, Green November In The Making\n",
      "Bitcoin Mining Firm Core Scientific Stock Plunges Amid Bankruptcy Rumors\n",
      "Analyst Highlights Key Factors To Notice Following Recent Bitcoin Price Hike\n",
      "Bitcoin Whales Who Bought 1 Month Ago Hold Strong Despite Chance To Take Profit\n",
      "Why This Bitcoin Indicator Points To Bullish Double Bottom\n",
      "Bitcoin Bearish Signal: Exchanges Receiving Large Deposits\n",
      "Bitcoin Declines Slightly As Short-Term Holders Take Profits\n",
      "Will A Bankruptcy Of Bitcoin Miner Core Scientific Impact The Price?\n",
      "Can Elon Musk Influence The Next US Election?\n",
      "Bitcoin Price Loses Steam At $20,500, Earnings Season Plays Against Crypto\n",
      "BitStarz\n",
      "Punt Casino\n",
      "Trust Dice\n",
      "Vavada\n",
      "BC.Game\n",
      "mBit\n",
      "1xBit\n",
      "DeVO Protocol Aims to Redefine Philanthropy and Make Giving Work\n",
      "Can The Big Eyes Coin (BIG) Replace Top-rated Meme Coins Such As Dogecoin (DOGE) And Floki Inu?\n",
      "BIG EYES COIN, POLYGON, and QUANT: Safe Crypto Assets to Purchase Now\n",
      "Simplex’ Nimrod Lehavi Joins Locus Chain as Advisor\n",
      "Some Ethereum Network Gems: Uniglo.io, Ethereum Name Service, And Synthetix Network\n"
     ]
    }
   ],
   "source": [
    "for item in list_bing:\n",
    "    text = item.text\n",
    "    print(text)"
   ]
  },
  {
   "cell_type": "code",
   "execution_count": 20,
   "id": "e16187db",
   "metadata": {},
   "outputs": [],
   "source": [
    "#Imprimimos la lista pero nos damos cuenta que nos trajo mas de lo que queriamos por lo tanto procedemos a filtrarla\n",
    "#, y quedarnos solo con lo que necesitamos"
   ]
  },
  {
   "cell_type": "code",
   "execution_count": 21,
   "id": "08347232",
   "metadata": {},
   "outputs": [
    {
     "name": "stdout",
     "output_type": "stream",
     "text": [
      "Trick Or Treat For Bitcoin On Halloween Night? | BTCUSD Analysis October 31, 2022\n",
      "Bitcoin Nearing Retest Of Realized Price, Will Bulls Break Resistance This Time?\n",
      "Why Bitcoin Will Crush Opposition At $21,000, Green November In The Making\n",
      "Bitcoin Mining Firm Core Scientific Stock Plunges Amid Bankruptcy Rumors\n",
      "Analyst Highlights Key Factors To Notice Following Recent Bitcoin Price Hike\n",
      "Bitcoin Whales Who Bought 1 Month Ago Hold Strong Despite Chance To Take Profit\n",
      "Why This Bitcoin Indicator Points To Bullish Double Bottom\n",
      "Bitcoin Bearish Signal: Exchanges Receiving Large Deposits\n",
      "Bitcoin Declines Slightly As Short-Term Holders Take Profits\n",
      "Will A Bankruptcy Of Bitcoin Miner Core Scientific Impact The Price?\n",
      "Can Elon Musk Influence The Next US Election?\n",
      "Bitcoin Price Loses Steam At $20,500, Earnings Season Plays Against Crypto\n"
     ]
    }
   ],
   "source": [
    "bitcoinNewsBing = []\n",
    "for i in range (0,12):\n",
    "    bitcoinNewsBing.append(list_bing[i].text);\n",
    "    \n",
    "for i in bitcoinNewsBing:\n",
    "    print(i)"
   ]
  },
  {
   "cell_type": "code",
   "execution_count": 22,
   "id": "3e9cbc06",
   "metadata": {},
   "outputs": [],
   "source": [
    "#Como se observa quedo filtrada y ya tenemos todos nuestros valores en la variable bitcoinNewsBing para poder\n",
    "#procesarlos."
   ]
  },
  {
   "cell_type": "code",
   "execution_count": 23,
   "id": "8165bfa1",
   "metadata": {},
   "outputs": [],
   "source": [
    "## Configuramos un path a nuestra ruta donde tenemos instalaod el web driver que nos ayudara a poder parsear informacion desde la web.\n",
    "## En este caso utilizamos Cointelegraph, como nso sugeria el tp, y accedemos  a una pagina que actualiza buena informacion en fromato \n",
    "##String  de la evolucion de la moneda Bitcoin."
   ]
  },
  {
   "cell_type": "code",
   "execution_count": 24,
   "id": "1541ab3c",
   "metadata": {},
   "outputs": [],
   "source": [
    "driver.get('https://cointelegraph.com/tags/bitcoin')"
   ]
  },
  {
   "cell_type": "code",
   "execution_count": 25,
   "id": "d98f74e1",
   "metadata": {},
   "outputs": [],
   "source": [
    "list_Cointelegraph = []\n",
    "try:\n",
    "    list_Cointelegraph = driver.find_elements(By.CLASS_NAME,\"post-card-inline__title\")\n",
    "except:\n",
    "    print(\"No such element with that class present\")"
   ]
  },
  {
   "cell_type": "code",
   "execution_count": 26,
   "id": "541f8090",
   "metadata": {},
   "outputs": [],
   "source": [
    "#Buscamos los elementos de esa pagina mediante el nombre de una clase y los guardamos en una variable de tipo lista.\n",
    "#Para ser mas expresivos realizamos un try y describimos la except en caso de que falle."
   ]
  },
  {
   "cell_type": "code",
   "execution_count": 27,
   "id": "5a9dabbd",
   "metadata": {},
   "outputs": [
    {
     "name": "stdout",
     "output_type": "stream",
     "text": [
      "Ethereum flashes a classic bullish pattern in its Bitcoin pair, hinting at 50% upside\n",
      "2 metrics signal the $1T crypto market cap support likely won’t hold\n",
      "Bitcoin fails to break the $21K support, but bears remain shy\n",
      "Why is the crypto market up today?\n",
      "14 years since the Bitcoin white paper: Why it matters\n",
      "Bitcoin ‘double bottom’ excites bulls as NVT signal predicts major move\n",
      "Argo Blockchain is at risk of closing if it fails further financing\n",
      "Here are top tips by the crypto community to get through the bear market\n",
      "BTC price sees ‘double top’ before FOMC — 5 things to know in Bitcoin this week\n",
      "BTC price struggles at $21K as trader says 'top is in' for Bitcoin, Ethereum\n",
      "Bitcoin metric warns of $21K profit-taking as decade-old BTC wakes up\n",
      "Bitcoin hits new 6-week high as Ethereum liquidates $240M more shorts\n",
      "Bitcoin price broke out this week, but has the trend changed?\n",
      "Crypto Biz: Is Zuckerberg’s $100B metaverse experiment doomed to fail?\n",
      "Cowboy hats, boots, guns and crypto talk with Dan Held\n"
     ]
    }
   ],
   "source": [
    "for item in list_Cointelegraph:\n",
    "    text = item.text\n",
    "    print(text)"
   ]
  },
  {
   "cell_type": "code",
   "execution_count": 28,
   "id": "93e18538",
   "metadata": {},
   "outputs": [],
   "source": [
    "#Imprimimos la lista, y conseguimos justo la informacion como queriamos."
   ]
  },
  {
   "cell_type": "code",
   "execution_count": 29,
   "id": "0124a44c",
   "metadata": {},
   "outputs": [
    {
     "name": "stdout",
     "output_type": "stream",
     "text": [
      "Trick Or Treat For Bitcoin On Halloween Night? | BTCUSD Analysis October 31, 2022\n",
      "Bitcoin Nearing Retest Of Realized Price, Will Bulls Break Resistance This Time?\n",
      "Why Bitcoin Will Crush Opposition At $21,000, Green November In The Making\n",
      "Bitcoin Mining Firm Core Scientific Stock Plunges Amid Bankruptcy Rumors\n",
      "Analyst Highlights Key Factors To Notice Following Recent Bitcoin Price Hike\n",
      "Bitcoin Whales Who Bought 1 Month Ago Hold Strong Despite Chance To Take Profit\n",
      "Why This Bitcoin Indicator Points To Bullish Double Bottom\n",
      "Bitcoin Bearish Signal: Exchanges Receiving Large Deposits\n",
      "Bitcoin Declines Slightly As Short-Term Holders Take Profits\n",
      "Will A Bankruptcy Of Bitcoin Miner Core Scientific Impact The Price?\n",
      "Can Elon Musk Influence The Next US Election?\n",
      "Bitcoin Price Loses Steam At $20,500, Earnings Season Plays Against Crypto\n"
     ]
    }
   ],
   "source": [
    "bitcoinNewsCointelegraph = []\n",
    "for i in range (0,12):\n",
    "    bitcoinNewsCointelegraph.append(list_Cointelegraph[i].text);\n",
    "    \n",
    "for i in bitcoinNewsBing:\n",
    "    print(i)"
   ]
  },
  {
   "cell_type": "code",
   "execution_count": 30,
   "id": "90bad50d",
   "metadata": {},
   "outputs": [],
   "source": [
    "## Guardamos en la variable de lista correspondiente la informacion conseguida."
   ]
  },
  {
   "cell_type": "code",
   "execution_count": null,
   "id": "c053a747",
   "metadata": {},
   "outputs": [],
   "source": []
  },
  {
   "cell_type": "code",
   "execution_count": 31,
   "id": "e465aa13",
   "metadata": {},
   "outputs": [],
   "source": [
    "##\n",
    "##     En este momento tenemos nuestras tres variables en fomrato de lista ( con STRINGs) donde esta la informacion\n",
    "##     proveniente de 3 fuenets distintas sobre la evolucion y las caracteristicas del bitcoin actualizadas.\n",
    "##     \n",
    "##     Ellas son: bitcoinNewsGoogle --- bitcoinNewsBing --- bitcoinNewsCointelegraph\n",
    "##\n",
    "##     Ahora mismo procederemos a unirlas.\n",
    "##"
   ]
  },
  {
   "cell_type": "code",
   "execution_count": null,
   "id": "4c00ae09",
   "metadata": {},
   "outputs": [],
   "source": []
  },
  {
   "cell_type": "code",
   "execution_count": 32,
   "id": "2c24560a",
   "metadata": {},
   "outputs": [],
   "source": [
    "bitcoinNews = []\n",
    "bitcoinNews += bitcoinNewsGoogle\n",
    "bitcoinNews += bitcoinNewsBing\n",
    "bitcoinNews += bitcoinNewsCointelegraph"
   ]
  },
  {
   "cell_type": "code",
   "execution_count": 33,
   "id": "ab82920d",
   "metadata": {},
   "outputs": [],
   "source": [
    "## Verificamos que se hayan agregado correctamente y no hallamos perdidio niguna noticia."
   ]
  },
  {
   "cell_type": "code",
   "execution_count": 34,
   "id": "3dee965e",
   "metadata": {},
   "outputs": [
    {
     "name": "stdout",
     "output_type": "stream",
     "text": [
      "3\n",
      "12\n",
      "12\n"
     ]
    }
   ],
   "source": [
    "print(len(bitcoinNewsGoogle))\n",
    "print(len(bitcoinNewsBing))\n",
    "print(len(bitcoinNewsCointelegraph))"
   ]
  },
  {
   "cell_type": "code",
   "execution_count": 35,
   "id": "4f7fa7ae",
   "metadata": {},
   "outputs": [
    {
     "name": "stdout",
     "output_type": "stream",
     "text": [
      "27\n"
     ]
    }
   ],
   "source": [
    "print(len(bitcoinNews))"
   ]
  },
  {
   "cell_type": "code",
   "execution_count": 36,
   "id": "2ed04493",
   "metadata": {},
   "outputs": [
    {
     "data": {
      "text/plain": [
       "['Despite the bear market, Elon Musk still holds over US$218 million of Bitcoin, as reported by Decrypt.',\n",
       " 'BTC current price is US$20,124.30 as of 28 October with a 24-hour trading volume of US$923.07 million.',\n",
       " 'Based on Bloomberg, Bitcoin retail trading will be legalized in Hong Kong despite the crypto ban in China.',\n",
       " 'Trick Or Treat For Bitcoin On Halloween Night? | BTCUSD Analysis October 31, 2022',\n",
       " 'Bitcoin Nearing Retest Of Realized Price, Will Bulls Break Resistance This Time?',\n",
       " 'Why Bitcoin Will Crush Opposition At $21,000, Green November In The Making',\n",
       " 'Bitcoin Mining Firm Core Scientific Stock Plunges Amid Bankruptcy Rumors',\n",
       " 'Analyst Highlights Key Factors To Notice Following Recent Bitcoin Price Hike',\n",
       " 'Bitcoin Whales Who Bought 1 Month Ago Hold Strong Despite Chance To Take Profit',\n",
       " 'Why This Bitcoin Indicator Points To Bullish Double Bottom',\n",
       " 'Bitcoin Bearish Signal: Exchanges Receiving Large Deposits',\n",
       " 'Bitcoin Declines Slightly As Short-Term Holders Take Profits',\n",
       " 'Will A Bankruptcy Of Bitcoin Miner Core Scientific Impact The Price?',\n",
       " 'Can Elon Musk Influence The Next US Election?',\n",
       " 'Bitcoin Price Loses Steam At $20,500, Earnings Season Plays Against Crypto',\n",
       " 'Ethereum flashes a classic bullish pattern in its Bitcoin pair, hinting at 50% upside',\n",
       " '2 metrics signal the $1T crypto market cap support likely won’t hold',\n",
       " 'Bitcoin fails to break the $21K support, but bears remain shy',\n",
       " 'Why is the crypto market up today?',\n",
       " '14 years since the Bitcoin white paper: Why it matters',\n",
       " 'Bitcoin ‘double bottom’ excites bulls as NVT signal predicts major move',\n",
       " 'Argo Blockchain is at risk of closing if it fails further financing',\n",
       " 'Here are top tips by the crypto community to get through the bear market',\n",
       " 'BTC price sees ‘double top’ before FOMC — 5 things to know in Bitcoin this week',\n",
       " \"BTC price struggles at $21K as trader says 'top is in' for Bitcoin, Ethereum\",\n",
       " 'Bitcoin metric warns of $21K profit-taking as decade-old BTC wakes up',\n",
       " 'Bitcoin hits new 6-week high as Ethereum liquidates $240M more shorts']"
      ]
     },
     "execution_count": 36,
     "metadata": {},
     "output_type": "execute_result"
    }
   ],
   "source": [
    "bitcoinNews"
   ]
  },
  {
   "cell_type": "code",
   "execution_count": 37,
   "id": "356e679b",
   "metadata": {},
   "outputs": [],
   "source": [
    "## Efectivamente ya tenemos nuestra lista de noticias diarias, para procesar con un\n",
    "## un modelo machine learning  que nos dira en base a una respuesta binaria de 0 o 1, si la \n",
    "## oracion es positiva o negativa. "
   ]
  },
  {
   "cell_type": "code",
   "execution_count": null,
   "id": "210ef299",
   "metadata": {},
   "outputs": [],
   "source": []
  },
  {
   "cell_type": "code",
   "execution_count": 38,
   "id": "863b9b9e",
   "metadata": {},
   "outputs": [],
   "source": [
    "## Vamos a importar 3 Datasets para poder entrenar nuestro modelo, seran:\n",
    "## IMDB dataset, Amazon dataset, y Yelp dataset.\n",
    "## Cada uno clasifica la emocion como:\n",
    "## 1 : Positiva\n",
    "## 0 : Negativa"
   ]
  },
  {
   "cell_type": "code",
   "execution_count": 39,
   "id": "95f95767",
   "metadata": {},
   "outputs": [],
   "source": [
    "import pandas as pd"
   ]
  },
  {
   "cell_type": "code",
   "execution_count": 40,
   "id": "5930d4e5",
   "metadata": {},
   "outputs": [],
   "source": [
    "## Usamos Pandas para leer los 3 datasets importados."
   ]
  },
  {
   "cell_type": "code",
   "execution_count": 41,
   "id": "e879b93e",
   "metadata": {},
   "outputs": [],
   "source": [
    "df_yelp = pd.read_table('yelp_labelled.txt')\n",
    "df_imdb = pd.read_table('imdb_labelled.txt')\n",
    "df_amz = pd.read_table('amazon_cells_labelled.txt')"
   ]
  },
  {
   "cell_type": "code",
   "execution_count": 42,
   "id": "11ec5264",
   "metadata": {},
   "outputs": [],
   "source": [
    "## Como tenemos 3 datasets procedemos a concatenarlos y entrenar al modelo con un solo."
   ]
  },
  {
   "cell_type": "code",
   "execution_count": 43,
   "id": "6a431441",
   "metadata": {},
   "outputs": [],
   "source": [
    "frames = [df_yelp,df_imdb,df_amz]"
   ]
  },
  {
   "cell_type": "code",
   "execution_count": 44,
   "id": "1a835e3c",
   "metadata": {},
   "outputs": [],
   "source": [
    "## Ahora agregaremos header, Nuestro DataSet no tiene \"columnas\", y nosotros necesitamos dos, una sera el mensaje\n",
    "## la llamaremos \"Message\" y la otra sera el resultado 1 o 0 que lo llamaremos \"Target\"."
   ]
  },
  {
   "cell_type": "code",
   "execution_count": 45,
   "id": "26c19051",
   "metadata": {},
   "outputs": [],
   "source": [
    "for colname in frames:\n",
    "    colname.columns = [\"Message\",\"Target\"]"
   ]
  },
  {
   "cell_type": "code",
   "execution_count": 46,
   "id": "47f9bb0d",
   "metadata": {},
   "outputs": [],
   "source": [
    "## Verifiquemos que todo esta saliendo bien y imprimamos las columnas:"
   ]
  },
  {
   "cell_type": "code",
   "execution_count": 47,
   "id": "de347962",
   "metadata": {},
   "outputs": [
    {
     "name": "stdout",
     "output_type": "stream",
     "text": [
      "Index(['Message', 'Target'], dtype='object')\n",
      "Index(['Message', 'Target'], dtype='object')\n",
      "Index(['Message', 'Target'], dtype='object')\n"
     ]
    }
   ],
   "source": [
    "for colname in frames:\n",
    "    print(colname.columns)"
   ]
  },
  {
   "cell_type": "code",
   "execution_count": 48,
   "id": "f82b94d6",
   "metadata": {},
   "outputs": [],
   "source": [
    "## Todo impecable, es lo que se esperaba. Seguimos con la preparacion del modelo."
   ]
  },
  {
   "cell_type": "code",
   "execution_count": 49,
   "id": "d7fac350",
   "metadata": {},
   "outputs": [],
   "source": [
    "## Al haber mershiado los 3 datasets, perdimos la posibilidad de saber de donde proviene cada uno, por lo tanto\n",
    "## me parece una buena practica ponerle keys a nuestro data fame para poder identificar a cual de los tres \n",
    "## pertenece. Declaro las tres llaves o \"keys\":"
   ]
  },
  {
   "cell_type": "code",
   "execution_count": 50,
   "id": "1d73b28f",
   "metadata": {},
   "outputs": [],
   "source": [
    "keys = ['Yelp','IMDB','Amazon']"
   ]
  },
  {
   "cell_type": "code",
   "execution_count": 51,
   "id": "6da712f4",
   "metadata": {},
   "outputs": [],
   "source": [
    "## Ahora si concatenamos:"
   ]
  },
  {
   "cell_type": "code",
   "execution_count": 52,
   "id": "b0a85f1a",
   "metadata": {},
   "outputs": [],
   "source": [
    "df = pd.concat( frames, keys = keys )"
   ]
  },
  {
   "cell_type": "code",
   "execution_count": 53,
   "id": "6479f3eb",
   "metadata": {},
   "outputs": [],
   "source": [
    "## Para verificar todo lo que vinimos haciendo voy a imprimir nuestras primeras rows o filas de nuestro dataset:"
   ]
  },
  {
   "cell_type": "code",
   "execution_count": 54,
   "id": "c4e76ed0",
   "metadata": {},
   "outputs": [
    {
     "data": {
      "text/html": [
       "<div>\n",
       "<style scoped>\n",
       "    .dataframe tbody tr th:only-of-type {\n",
       "        vertical-align: middle;\n",
       "    }\n",
       "\n",
       "    .dataframe tbody tr th {\n",
       "        vertical-align: top;\n",
       "    }\n",
       "\n",
       "    .dataframe thead th {\n",
       "        text-align: right;\n",
       "    }\n",
       "</style>\n",
       "<table border=\"1\" class=\"dataframe\">\n",
       "  <thead>\n",
       "    <tr style=\"text-align: right;\">\n",
       "      <th></th>\n",
       "      <th></th>\n",
       "      <th>Message</th>\n",
       "      <th>Target</th>\n",
       "    </tr>\n",
       "  </thead>\n",
       "  <tbody>\n",
       "    <tr>\n",
       "      <th rowspan=\"5\" valign=\"top\">Yelp</th>\n",
       "      <th>0</th>\n",
       "      <td>Crust is not good.</td>\n",
       "      <td>0</td>\n",
       "    </tr>\n",
       "    <tr>\n",
       "      <th>1</th>\n",
       "      <td>Not tasty and the texture was just nasty.</td>\n",
       "      <td>0</td>\n",
       "    </tr>\n",
       "    <tr>\n",
       "      <th>2</th>\n",
       "      <td>Stopped by during the late May bank holiday of...</td>\n",
       "      <td>1</td>\n",
       "    </tr>\n",
       "    <tr>\n",
       "      <th>3</th>\n",
       "      <td>The selection on the menu was great and so wer...</td>\n",
       "      <td>1</td>\n",
       "    </tr>\n",
       "    <tr>\n",
       "      <th>4</th>\n",
       "      <td>Now I am getting angry and I want my damn pho.</td>\n",
       "      <td>0</td>\n",
       "    </tr>\n",
       "    <tr>\n",
       "      <th>...</th>\n",
       "      <th>...</th>\n",
       "      <td>...</td>\n",
       "      <td>...</td>\n",
       "    </tr>\n",
       "    <tr>\n",
       "      <th rowspan=\"5\" valign=\"top\">Amazon</th>\n",
       "      <th>994</th>\n",
       "      <td>The screen does get smudged easily because it ...</td>\n",
       "      <td>0</td>\n",
       "    </tr>\n",
       "    <tr>\n",
       "      <th>995</th>\n",
       "      <td>What a piece of junk.. I lose more calls on th...</td>\n",
       "      <td>0</td>\n",
       "    </tr>\n",
       "    <tr>\n",
       "      <th>996</th>\n",
       "      <td>Item Does Not Match Picture.</td>\n",
       "      <td>0</td>\n",
       "    </tr>\n",
       "    <tr>\n",
       "      <th>997</th>\n",
       "      <td>The only thing that disappoint me is the infra...</td>\n",
       "      <td>0</td>\n",
       "    </tr>\n",
       "    <tr>\n",
       "      <th>998</th>\n",
       "      <td>You can not answer calls with the unit, never ...</td>\n",
       "      <td>0</td>\n",
       "    </tr>\n",
       "  </tbody>\n",
       "</table>\n",
       "<p>2745 rows × 2 columns</p>\n",
       "</div>"
      ],
      "text/plain": [
       "                                                      Message  Target\n",
       "Yelp   0                                   Crust is not good.       0\n",
       "       1            Not tasty and the texture was just nasty.       0\n",
       "       2    Stopped by during the late May bank holiday of...       1\n",
       "       3    The selection on the menu was great and so wer...       1\n",
       "       4       Now I am getting angry and I want my damn pho.       0\n",
       "...                                                       ...     ...\n",
       "Amazon 994  The screen does get smudged easily because it ...       0\n",
       "       995  What a piece of junk.. I lose more calls on th...       0\n",
       "       996                       Item Does Not Match Picture.       0\n",
       "       997  The only thing that disappoint me is the infra...       0\n",
       "       998  You can not answer calls with the unit, never ...       0\n",
       "\n",
       "[2745 rows x 2 columns]"
      ]
     },
     "execution_count": 54,
     "metadata": {},
     "output_type": "execute_result"
    }
   ],
   "source": [
    "df"
   ]
  },
  {
   "cell_type": "code",
   "execution_count": 55,
   "id": "a695c9c1",
   "metadata": {},
   "outputs": [],
   "source": [
    "## Quedo como esperabamos, muy expresivo y prolijo. Podemos ver a que dataset pertenece, vemos claramente el texto,\n",
    "## y el resultado que nos arroja el modelo preejecutado de Machine Learning."
   ]
  },
  {
   "cell_type": "code",
   "execution_count": 56,
   "id": "ecc2ff8c",
   "metadata": {},
   "outputs": [],
   "source": [
    "## Ya tenemos listo nuestro data set para entrenar nuestro modelo, pero hay un problema que se presenta en la\n",
    "## prediccion del lenguaje natural. Y son las STOP WORDS. \n",
    "## Dichas palabras tiene poco poder de clasificacion en nuestro modelo y hace que perdamos accuracy , es decir\n",
    "## que nuestro modelo no sea tan performante. Como lo solucionamos? Eliminandolas."
   ]
  },
  {
   "cell_type": "code",
   "execution_count": 57,
   "id": "030a8bac",
   "metadata": {},
   "outputs": [],
   "source": [
    "## Para eliminar las \"STOP WORDS\" vamos a utilizar la libreria de spacy, que esta preentrenada para poder localizar\n",
    "## las stopwords de nuestro dataset que querramos analizar en nuestro modelo en construccion."
   ]
  },
  {
   "cell_type": "code",
   "execution_count": 58,
   "id": "598e8829",
   "metadata": {},
   "outputs": [],
   "source": [
    "import spacy\n",
    "from spacy.lang.en.stop_words import STOP_WORDS\n",
    "nlp = spacy.load('en_core_web_sm')"
   ]
  },
  {
   "cell_type": "code",
   "execution_count": 59,
   "id": "4e0de109",
   "metadata": {},
   "outputs": [],
   "source": [
    "## Primero Importamos Spacy\n",
    "# Luego importamos el paquete de spacy para poder eliminar nuestras StopWords \n",
    "# Y por ultimo especificamos que el lenguaje que estamos usando es ingles, por eso \"en\", esto tuvimos que instalarlo\n",
    "# en nuestro ambiente."
   ]
  },
  {
   "cell_type": "code",
   "execution_count": 60,
   "id": "bb57babf",
   "metadata": {},
   "outputs": [],
   "source": [
    "# Listamos las \"StopWords\" en nuestro DataSet:"
   ]
  },
  {
   "cell_type": "code",
   "execution_count": 61,
   "id": "8ca85296",
   "metadata": {},
   "outputs": [],
   "source": [
    "stopwords = list(STOP_WORDS)"
   ]
  },
  {
   "cell_type": "code",
   "execution_count": 62,
   "id": "0a372008",
   "metadata": {},
   "outputs": [],
   "source": [
    "# Ahora si las eliminamos: Para eso utilizamos el tokenize de una biblioteca conocida en NLP llamada NLTK,\n",
    "## separamos las oraciones en palabras y en caso de corresponder a una stopword o"
   ]
  },
  {
   "cell_type": "code",
   "execution_count": 66,
   "id": "c3d133d9",
   "metadata": {},
   "outputs": [],
   "source": [
    "import nltk\n",
    "from nltk.tokenize import word_tokenize\n",
    "from string import punctuation\n",
    "\n",
    "def list_without_appstfs(list):\n",
    "    count = -1\n",
    "    for elemnt in list:\n",
    "        count += 1 \n",
    "        if  elemnt[0] == '\\'':\n",
    "            elemnt_v2 = elemnt.replace(\"'\", \"\")\n",
    "            list[count]=elemnt_v2\n",
    "\n",
    "    return list\n",
    "\n",
    "## Importamos las librerias necesarias ya demas tampoco quiero que tenga puntuaciones asique creo una lista \n",
    "## basica con lo necesario para filtrarlo de nuestro dataset.\n",
    "\n",
    "puntuationWords = [\",\",\".\",\":\",\";\",\"-\",\"_\",\"/\",\"\\\",\",\"|\",\"‘\",\"—\",\"'\",\",\",\"’\",\"`\",\"\\'\",\"\\‘\",\"\\‘\"]\n"
   ]
  },
  {
   "cell_type": "code",
   "execution_count": 67,
   "id": "28ae32e7",
   "metadata": {},
   "outputs": [
    {
     "name": "stdout",
     "output_type": "stream",
     "text": [
      "['Despite', 'bear', 'market', 'Elon', 'Musk', 'holds', 'US', '218', 'million', 'Bitcoin', 'reported', 'Decrypt']\n",
      "['BTC', 'current', 'price', 'US', '20,124.30', '28', 'October', '24-hour', 'trading', 'volume', 'US', '923.07', 'million']\n",
      "['Based', 'Bloomberg', 'Bitcoin', 'retail', 'trading', 'legalized', 'Hong', 'Kong', 'despite', 'crypto', 'ban', 'China']\n",
      "['Trick', 'Or', 'Treat', 'For', 'Bitcoin', 'On', 'Halloween', 'Night', 'BTCUSD', 'Analysis', 'October', '31', '2022']\n",
      "['Bitcoin', 'Nearing', 'Retest', 'Of', 'Realized', 'Price', 'Will', 'Bulls', 'Break', 'Resistance', 'This', 'Time']\n",
      "['Why', 'Bitcoin', 'Will', 'Crush', 'Opposition', 'At', '21,000', 'Green', 'November', 'In', 'The', 'Making']\n",
      "['Bitcoin', 'Mining', 'Firm', 'Core', 'Scientific', 'Stock', 'Plunges', 'Amid', 'Bankruptcy', 'Rumors']\n",
      "['Analyst', 'Highlights', 'Key', 'Factors', 'To', 'Notice', 'Following', 'Recent', 'Bitcoin', 'Price', 'Hike']\n",
      "['Bitcoin', 'Whales', 'Who', 'Bought', '1', 'Month', 'Ago', 'Hold', 'Strong', 'Despite', 'Chance', 'To', 'Take', 'Profit']\n",
      "['Why', 'This', 'Bitcoin', 'Indicator', 'Points', 'To', 'Bullish', 'Double', 'Bottom']\n",
      "['Bitcoin', 'Bearish', 'Signal', 'Exchanges', 'Receiving', 'Large', 'Deposits']\n",
      "['Bitcoin', 'Declines', 'Slightly', 'As', 'Short-Term', 'Holders', 'Take', 'Profits']\n",
      "['Will', 'A', 'Bankruptcy', 'Of', 'Bitcoin', 'Miner', 'Core', 'Scientific', 'Impact', 'The', 'Price']\n",
      "['Can', 'Elon', 'Musk', 'Influence', 'The', 'Next', 'US', 'Election']\n",
      "['Bitcoin', 'Price', 'Loses', 'Steam', 'At', '20,500', 'Earnings', 'Season', 'Plays', 'Against', 'Crypto']\n",
      "['Ethereum', 'flashes', 'classic', 'bullish', 'pattern', 'Bitcoin', 'pair', 'hinting', '50', 'upside']\n",
      "['2', 'metrics', 'signal', '1T', 'crypto', 'market', 'cap', 'support', 'likely', 'won', 't', 'hold']\n",
      "['Bitcoin', 'fails', 'break', '21K', 'support', 'bears', 'remain', 'shy']\n",
      "['Why', 'crypto', 'market', 'today']\n",
      "['14', 'years', 'Bitcoin', 'white', 'paper', 'Why', 'matters']\n",
      "['Bitcoin', 'double', 'excites', 'bulls', 'NVT', 'signal', 'predicts', 'major']\n",
      "['Argo', 'Blockchain', 'risk', 'closing', 'fails', 'financing']\n",
      "['Here', 'tips', 'crypto', 'community', 'bear', 'market']\n",
      "['BTC', 'price', 'sees', 'double', 'FOMC', '5', 'things', 'know', 'Bitcoin', 'week']\n",
      "['BTC', 'price', 'struggles', '21K', 'trader', 'says', 'top', 'Bitcoin', 'Ethereum']\n",
      "['Bitcoin', 'metric', 'warns', '21K', 'profit-taking', 'decade-old', 'BTC', 'wakes']\n",
      "['Bitcoin', 'hits', 'new', '6-week', 'high', 'Ethereum', 'liquidates', '240M', 'shorts']\n"
     ]
    }
   ],
   "source": [
    "lista=[]\n",
    "for sentence in bitcoinNews: \n",
    "    text_tokens = word_tokenize(sentence)\n",
    "    tokens_without_sw = [word for word in text_tokens \n",
    "                        if not word in stopwords and \n",
    "                        not word in punctuation and\n",
    "                        not word in puntuationWords]\n",
    "    \n",
    "    tokens_without_sw = list_without_appstfs(tokens_without_sw)\n",
    "    print(tokens_without_sw)\n",
    "    lista.append(tokens_without_sw) \n"
   ]
  },
  {
   "cell_type": "code",
   "execution_count": 68,
   "id": "1ca37531",
   "metadata": {},
   "outputs": [
    {
     "name": "stdout",
     "output_type": "stream",
     "text": [
      "[['Despite', 'bear', 'market', 'Elon', 'Musk', 'holds', 'US', '218', 'million', 'Bitcoin', 'reported', 'Decrypt'], ['BTC', 'current', 'price', 'US', '20,124.30', '28', 'October', '24-hour', 'trading', 'volume', 'US', '923.07', 'million'], ['Based', 'Bloomberg', 'Bitcoin', 'retail', 'trading', 'legalized', 'Hong', 'Kong', 'despite', 'crypto', 'ban', 'China'], ['Trick', 'Or', 'Treat', 'For', 'Bitcoin', 'On', 'Halloween', 'Night', 'BTCUSD', 'Analysis', 'October', '31', '2022'], ['Bitcoin', 'Nearing', 'Retest', 'Of', 'Realized', 'Price', 'Will', 'Bulls', 'Break', 'Resistance', 'This', 'Time'], ['Why', 'Bitcoin', 'Will', 'Crush', 'Opposition', 'At', '21,000', 'Green', 'November', 'In', 'The', 'Making'], ['Bitcoin', 'Mining', 'Firm', 'Core', 'Scientific', 'Stock', 'Plunges', 'Amid', 'Bankruptcy', 'Rumors'], ['Analyst', 'Highlights', 'Key', 'Factors', 'To', 'Notice', 'Following', 'Recent', 'Bitcoin', 'Price', 'Hike'], ['Bitcoin', 'Whales', 'Who', 'Bought', '1', 'Month', 'Ago', 'Hold', 'Strong', 'Despite', 'Chance', 'To', 'Take', 'Profit'], ['Why', 'This', 'Bitcoin', 'Indicator', 'Points', 'To', 'Bullish', 'Double', 'Bottom'], ['Bitcoin', 'Bearish', 'Signal', 'Exchanges', 'Receiving', 'Large', 'Deposits'], ['Bitcoin', 'Declines', 'Slightly', 'As', 'Short-Term', 'Holders', 'Take', 'Profits'], ['Will', 'A', 'Bankruptcy', 'Of', 'Bitcoin', 'Miner', 'Core', 'Scientific', 'Impact', 'The', 'Price'], ['Can', 'Elon', 'Musk', 'Influence', 'The', 'Next', 'US', 'Election'], ['Bitcoin', 'Price', 'Loses', 'Steam', 'At', '20,500', 'Earnings', 'Season', 'Plays', 'Against', 'Crypto'], ['Ethereum', 'flashes', 'classic', 'bullish', 'pattern', 'Bitcoin', 'pair', 'hinting', '50', 'upside'], ['2', 'metrics', 'signal', '1T', 'crypto', 'market', 'cap', 'support', 'likely', 'won', 't', 'hold'], ['Bitcoin', 'fails', 'break', '21K', 'support', 'bears', 'remain', 'shy'], ['Why', 'crypto', 'market', 'today'], ['14', 'years', 'Bitcoin', 'white', 'paper', 'Why', 'matters'], ['Bitcoin', 'double', 'excites', 'bulls', 'NVT', 'signal', 'predicts', 'major'], ['Argo', 'Blockchain', 'risk', 'closing', 'fails', 'financing'], ['Here', 'tips', 'crypto', 'community', 'bear', 'market'], ['BTC', 'price', 'sees', 'double', 'FOMC', '5', 'things', 'know', 'Bitcoin', 'week'], ['BTC', 'price', 'struggles', '21K', 'trader', 'says', 'top', 'Bitcoin', 'Ethereum'], ['Bitcoin', 'metric', 'warns', '21K', 'profit-taking', 'decade-old', 'BTC', 'wakes'], ['Bitcoin', 'hits', 'new', '6-week', 'high', 'Ethereum', 'liquidates', '240M', 'shorts']]\n"
     ]
    }
   ],
   "source": [
    "print(lista)"
   ]
  },
  {
   "cell_type": "code",
   "execution_count": 69,
   "id": "ecaaa3d3",
   "metadata": {},
   "outputs": [
    {
     "name": "stdout",
     "output_type": "stream",
     "text": [
      "['Despite bear market Elon Musk holds US 218 million Bitcoin reported Decrypt', 'BTC current price US 20,124.30 28 October 24-hour trading volume US 923.07 million', 'Based Bloomberg Bitcoin retail trading legalized Hong Kong despite crypto ban China', 'Trick Or Treat For Bitcoin On Halloween Night BTCUSD Analysis October 31 2022', 'Bitcoin Nearing Retest Of Realized Price Will Bulls Break Resistance This Time', 'Why Bitcoin Will Crush Opposition At 21,000 Green November In The Making', 'Bitcoin Mining Firm Core Scientific Stock Plunges Amid Bankruptcy Rumors', 'Analyst Highlights Key Factors To Notice Following Recent Bitcoin Price Hike', 'Bitcoin Whales Who Bought 1 Month Ago Hold Strong Despite Chance To Take Profit', 'Why This Bitcoin Indicator Points To Bullish Double Bottom', 'Bitcoin Bearish Signal Exchanges Receiving Large Deposits', 'Bitcoin Declines Slightly As Short-Term Holders Take Profits', 'Will A Bankruptcy Of Bitcoin Miner Core Scientific Impact The Price', 'Can Elon Musk Influence The Next US Election', 'Bitcoin Price Loses Steam At 20,500 Earnings Season Plays Against Crypto', 'Ethereum flashes classic bullish pattern Bitcoin pair hinting 50 upside', '2 metrics signal 1T crypto market cap support likely won t hold', 'Bitcoin fails break 21K support bears remain shy', 'Why crypto market today', '14 years Bitcoin white paper Why matters', 'Bitcoin double excites bulls NVT signal predicts major', 'Argo Blockchain risk closing fails financing', 'Here tips crypto community bear market', 'BTC price sees double FOMC 5 things know Bitcoin week', 'BTC price struggles 21K trader says top Bitcoin Ethereum', 'Bitcoin metric warns 21K profit-taking decade-old BTC wakes', 'Bitcoin hits new 6-week high Ethereum liquidates 240M shorts']\n"
     ]
    }
   ],
   "source": [
    "bitcoinNewsToPredict =[]\n",
    "for list in lista:\n",
    "    bitcoinNewsToPredict.append(' '.join(list))\n",
    "\n",
    "print(bitcoinNewsToPredict)\n",
    " \n",
    "## Para tener una mejor performance ya le hicimos trabajo de ingenieria de datos sacando STOPWORDS.\n",
    "## bitcoinNewsToPredict esta lista para ser ingresado a nuestro futuro modelo."
   ]
  },
  {
   "cell_type": "code",
   "execution_count": 70,
   "id": "707ecad2",
   "metadata": {},
   "outputs": [],
   "source": [
    "## Ahora si tenemos nuestras noticias de Bitcoin sin STOP WORDS, y encima sin puntuaciones."
   ]
  },
  {
   "cell_type": "code",
   "execution_count": 71,
   "id": "5a3b131c",
   "metadata": {},
   "outputs": [],
   "source": [
    "## Comenzamos a preparar nuestro modelo MACHINE LEARNING:"
   ]
  },
  {
   "cell_type": "code",
   "execution_count": 72,
   "id": "1cc1fc53",
   "metadata": {},
   "outputs": [],
   "source": [
    "from sklearn.metrics import accuracy_score\n",
    "from sklearn.model_selection import train_test_split \n",
    "from sklearn.base import TransformerMixin\n",
    "from sklearn.svm import LinearSVC \n",
    "from sklearn.pipeline import Pipeline \n",
    "from sklearn.feature_extraction.text import CountVectorizer,TfidfVectorizer "
   ]
  },
  {
   "cell_type": "code",
   "execution_count": 73,
   "id": "ccb1a3f2",
   "metadata": {},
   "outputs": [],
   "source": [
    "## Como se nota usaremos scikit-learn para construir nuestro modelo"
   ]
  },
  {
   "cell_type": "code",
   "execution_count": 74,
   "id": "6a50703a",
   "metadata": {},
   "outputs": [],
   "source": [
    "## Importamos:\n",
    "## - CountVectorizer\n",
    "## - TfidfVectorizer\n",
    "## - accuracy_score\n",
    "## - train_test_split\n",
    "## - TransformerMixin\n",
    "## - LinearSVC\n",
    "## - Pipeline\n",
    "\n",
    "## Explicare para que sirven cada uno:"
   ]
  },
  {
   "cell_type": "code",
   "execution_count": 75,
   "id": "6fc96619",
   "metadata": {},
   "outputs": [],
   "source": [
    "## CountVectorizer : Lo utilizamos para transformar el texto de nuestro dataset numerico en formato numerico\n",
    "## de esta manera podemos acceder mas rapido y con mayor eficiencia.\n",
    "\n",
    "## TfidfVectorizer : Es una medida que nos ayuda a evaluar que tan relevante es una palabra en una coleccion.\n",
    "## Es decir que si dos dataset tienen la misma palabra , esa palabra tiene menos poder a la hora de predecir\n",
    "## que una palabra que es unica en cada uno.\n",
    "\n",
    "## accuracy_score : Como lo indica el nombre es un paquete que nos va a ayudar a saber cual es el accuracy de \n",
    "## nuestro modelo a la hora de hacer una prediccion.\n",
    "\n",
    "## train_test_split: Este paquete lo utilizmaos para poder dividir nuestro dataset en una parte de entrenamiento \n",
    "## y otra parte de prueba o testeo. \n",
    "\n",
    "## TransformerMixin : Lo utilizamos para ajustar nuestro modelo al conjunto de datos que tenemos durante la fase \n",
    "## de entrenamiento. Con el nos aseguramos que nuestro modelo aprenda patrones dle conjunto de datos que nosotros\n",
    "## le ofrecemos al modelo para aprender.\n",
    "\n",
    "## LinearSVC : Es el \"Algoritmo\" que yo utilizare, es un algoritmo de vectores que usaremos para construir el \n",
    "## modelo. utuliza justamnete el metodo LinearSVC para ajustar nuestro modelo a los datos y producir el mejor \n",
    "## ajuste.Este algoritmo trabaja intentando encontrar un HIPERPLANO para MAXIMIZAR la distancia entre nuestras\n",
    "## muestras clasificadas.\n",
    "\n",
    "## Pipeline : Por ultimo PipeLine, lo usamos para poder automatizar el trabajo que haremos con las bibliotecas \n",
    "## anteriormente mencionadas. Esto hace que el proceso de creacion de modelos sea MUCHO mas rapido y MUCHO mas\n",
    "## sencillo, ya que todas las etapas se agrupan en un solo proceso unitario."
   ]
  },
  {
   "cell_type": "code",
   "execution_count": 76,
   "id": "d0fa6032",
   "metadata": {},
   "outputs": [],
   "source": [
    "## Ahora que ya explicamos nuestras herramientas, comenzaremos a trabajar en nuestro futuro modelo:"
   ]
  },
  {
   "cell_type": "code",
   "execution_count": 77,
   "id": "4e36987d",
   "metadata": {},
   "outputs": [],
   "source": [
    "##class transformers(TransformerMixin):\n",
    "    \n",
    "  ##  def data_transform(self,X_train, Y_train):\n",
    "    ##    return [clean_text(text) for text in X]\n",
    "    \n",
    "    ##def model_fit(self,X=text, y=text_set):\n",
    "      ##  return text\n",
    "    ##def set_params(self,best_params, set=True):\n",
    "     ##   return {}\n",
    "        \n",
    "## Al final decidi no usar un transformer."
   ]
  },
  {
   "cell_type": "code",
   "execution_count": 78,
   "id": "a50c60c2",
   "metadata": {},
   "outputs": [],
   "source": [
    "vectorizer = CountVectorizer(tokenizer = word_tokenize, ngram_range=(1,1))\n",
    "classifier = LinearSVC()"
   ]
  },
  {
   "cell_type": "code",
   "execution_count": 79,
   "id": "cd5007af",
   "metadata": {},
   "outputs": [],
   "source": [
    "## Convertiremos con vectorizer mediante un pipe a nuestra dato en vectores numericos, para un mejor performance de neustro modelo.\n",
    "## Vamos a empezar probando un modelo de LinearSVC como se explico anteriormente."
   ]
  },
  {
   "cell_type": "code",
   "execution_count": 80,
   "id": "56c579e5",
   "metadata": {},
   "outputs": [],
   "source": [
    "tfvectorizer = TfidfVectorizer(tokenizer = word_tokenize)\n",
    "\n",
    "## Con tfvectorizer chekiamos con que frecuencia una palabra de nuestro dataset de entrenamiento es usada. La frecuencia es importante para saber\n",
    "## \"el poder\" de la palabra , es decir el valor de la palabra en nuesto modelo de prediccion."
   ]
  },
  {
   "cell_type": "code",
   "execution_count": 81,
   "id": "756016e9",
   "metadata": {},
   "outputs": [],
   "source": [
    "X = df['Message']\n",
    "ylabels = df['Target']\n",
    "\n",
    "## \"Message\" va a ser nuestra feature con la que buscaremos conseguir la prediccion, y como lo dice el nombre de la columna \"Target\" es nuestra\n",
    "## variable Objetivo que intentaremos predecir. 1 si es positivo y 0 si es negativo."
   ]
  },
  {
   "cell_type": "code",
   "execution_count": 82,
   "id": "925bf00d",
   "metadata": {},
   "outputs": [],
   "source": [
    "X_train, X_test, y_train, y_test = train_test_split(X, ylabels, test_size=0.25, random_state=42)\n",
    "\n",
    "## Dividimos nuestro dataset para utilizar una parte en el entrenamiento y otra parte en el testeo del mismo.\n",
    "## Destinamos un 75%  para el entrenamiento y el otro 25% para testiar nuestro modelo y examinar la performance."
   ]
  },
  {
   "cell_type": "code",
   "execution_count": 83,
   "id": "b1d423ba",
   "metadata": {},
   "outputs": [],
   "source": [
    "## Creamos nuestro pipeline para automatizar todos los procesos que necesitamos para entrenar nuestro modelo.\n",
    "\n",
    "pipe = Pipeline([('vectorizer', vectorizer),\n",
    "                 ('classifier', classifier)])\n",
    "\n",
    "## De esta manera nuestro pipe va a vectorizar nuestro texto en datos numericos y lo clasificara con nuestro classifer elejido LinearSVC()."
   ]
  },
  {
   "cell_type": "code",
   "execution_count": 84,
   "id": "84c402b0",
   "metadata": {},
   "outputs": [
    {
     "data": {
      "text/html": [
       "<style>#sk-container-id-1 {color: black;background-color: white;}#sk-container-id-1 pre{padding: 0;}#sk-container-id-1 div.sk-toggleable {background-color: white;}#sk-container-id-1 label.sk-toggleable__label {cursor: pointer;display: block;width: 100%;margin-bottom: 0;padding: 0.3em;box-sizing: border-box;text-align: center;}#sk-container-id-1 label.sk-toggleable__label-arrow:before {content: \"▸\";float: left;margin-right: 0.25em;color: #696969;}#sk-container-id-1 label.sk-toggleable__label-arrow:hover:before {color: black;}#sk-container-id-1 div.sk-estimator:hover label.sk-toggleable__label-arrow:before {color: black;}#sk-container-id-1 div.sk-toggleable__content {max-height: 0;max-width: 0;overflow: hidden;text-align: left;background-color: #f0f8ff;}#sk-container-id-1 div.sk-toggleable__content pre {margin: 0.2em;color: black;border-radius: 0.25em;background-color: #f0f8ff;}#sk-container-id-1 input.sk-toggleable__control:checked~div.sk-toggleable__content {max-height: 200px;max-width: 100%;overflow: auto;}#sk-container-id-1 input.sk-toggleable__control:checked~label.sk-toggleable__label-arrow:before {content: \"▾\";}#sk-container-id-1 div.sk-estimator input.sk-toggleable__control:checked~label.sk-toggleable__label {background-color: #d4ebff;}#sk-container-id-1 div.sk-label input.sk-toggleable__control:checked~label.sk-toggleable__label {background-color: #d4ebff;}#sk-container-id-1 input.sk-hidden--visually {border: 0;clip: rect(1px 1px 1px 1px);clip: rect(1px, 1px, 1px, 1px);height: 1px;margin: -1px;overflow: hidden;padding: 0;position: absolute;width: 1px;}#sk-container-id-1 div.sk-estimator {font-family: monospace;background-color: #f0f8ff;border: 1px dotted black;border-radius: 0.25em;box-sizing: border-box;margin-bottom: 0.5em;}#sk-container-id-1 div.sk-estimator:hover {background-color: #d4ebff;}#sk-container-id-1 div.sk-parallel-item::after {content: \"\";width: 100%;border-bottom: 1px solid gray;flex-grow: 1;}#sk-container-id-1 div.sk-label:hover label.sk-toggleable__label {background-color: #d4ebff;}#sk-container-id-1 div.sk-serial::before {content: \"\";position: absolute;border-left: 1px solid gray;box-sizing: border-box;top: 0;bottom: 0;left: 50%;z-index: 0;}#sk-container-id-1 div.sk-serial {display: flex;flex-direction: column;align-items: center;background-color: white;padding-right: 0.2em;padding-left: 0.2em;position: relative;}#sk-container-id-1 div.sk-item {position: relative;z-index: 1;}#sk-container-id-1 div.sk-parallel {display: flex;align-items: stretch;justify-content: center;background-color: white;position: relative;}#sk-container-id-1 div.sk-item::before, #sk-container-id-1 div.sk-parallel-item::before {content: \"\";position: absolute;border-left: 1px solid gray;box-sizing: border-box;top: 0;bottom: 0;left: 50%;z-index: -1;}#sk-container-id-1 div.sk-parallel-item {display: flex;flex-direction: column;z-index: 1;position: relative;background-color: white;}#sk-container-id-1 div.sk-parallel-item:first-child::after {align-self: flex-end;width: 50%;}#sk-container-id-1 div.sk-parallel-item:last-child::after {align-self: flex-start;width: 50%;}#sk-container-id-1 div.sk-parallel-item:only-child::after {width: 0;}#sk-container-id-1 div.sk-dashed-wrapped {border: 1px dashed gray;margin: 0 0.4em 0.5em 0.4em;box-sizing: border-box;padding-bottom: 0.4em;background-color: white;}#sk-container-id-1 div.sk-label label {font-family: monospace;font-weight: bold;display: inline-block;line-height: 1.2em;}#sk-container-id-1 div.sk-label-container {text-align: center;}#sk-container-id-1 div.sk-container {/* jupyter's `normalize.less` sets `[hidden] { display: none; }` but bootstrap.min.css set `[hidden] { display: none !important; }` so we also need the `!important` here to be able to override the default hidden behavior on the sphinx rendered scikit-learn.org. See: https://github.com/scikit-learn/scikit-learn/issues/21755 */display: inline-block !important;position: relative;}#sk-container-id-1 div.sk-text-repr-fallback {display: none;}</style><div id=\"sk-container-id-1\" class=\"sk-top-container\"><div class=\"sk-text-repr-fallback\"><pre>Pipeline(steps=[(&#x27;vectorizer&#x27;,\n",
       "                 CountVectorizer(tokenizer=&lt;function word_tokenize at 0x0000022B9EBB1F30&gt;)),\n",
       "                (&#x27;classifier&#x27;, LinearSVC())])</pre><b>In a Jupyter environment, please rerun this cell to show the HTML representation or trust the notebook. <br />On GitHub, the HTML representation is unable to render, please try loading this page with nbviewer.org.</b></div><div class=\"sk-container\" hidden><div class=\"sk-item sk-dashed-wrapped\"><div class=\"sk-label-container\"><div class=\"sk-label sk-toggleable\"><input class=\"sk-toggleable__control sk-hidden--visually\" id=\"sk-estimator-id-1\" type=\"checkbox\" ><label for=\"sk-estimator-id-1\" class=\"sk-toggleable__label sk-toggleable__label-arrow\">Pipeline</label><div class=\"sk-toggleable__content\"><pre>Pipeline(steps=[(&#x27;vectorizer&#x27;,\n",
       "                 CountVectorizer(tokenizer=&lt;function word_tokenize at 0x0000022B9EBB1F30&gt;)),\n",
       "                (&#x27;classifier&#x27;, LinearSVC())])</pre></div></div></div><div class=\"sk-serial\"><div class=\"sk-item\"><div class=\"sk-estimator sk-toggleable\"><input class=\"sk-toggleable__control sk-hidden--visually\" id=\"sk-estimator-id-2\" type=\"checkbox\" ><label for=\"sk-estimator-id-2\" class=\"sk-toggleable__label sk-toggleable__label-arrow\">CountVectorizer</label><div class=\"sk-toggleable__content\"><pre>CountVectorizer(tokenizer=&lt;function word_tokenize at 0x0000022B9EBB1F30&gt;)</pre></div></div></div><div class=\"sk-item\"><div class=\"sk-estimator sk-toggleable\"><input class=\"sk-toggleable__control sk-hidden--visually\" id=\"sk-estimator-id-3\" type=\"checkbox\" ><label for=\"sk-estimator-id-3\" class=\"sk-toggleable__label sk-toggleable__label-arrow\">LinearSVC</label><div class=\"sk-toggleable__content\"><pre>LinearSVC()</pre></div></div></div></div></div></div></div>"
      ],
      "text/plain": [
       "Pipeline(steps=[('vectorizer',\n",
       "                 CountVectorizer(tokenizer=<function word_tokenize at 0x0000022B9EBB1F30>)),\n",
       "                ('classifier', LinearSVC())])"
      ]
     },
     "execution_count": 84,
     "metadata": {},
     "output_type": "execute_result"
    }
   ],
   "source": [
    "pipe.fit(X_train,y_train)"
   ]
  },
  {
   "cell_type": "code",
   "execution_count": 85,
   "id": "15b0da15",
   "metadata": {},
   "outputs": [
    {
     "name": "stdout",
     "output_type": "stream",
     "text": [
      "Accuracy:  0.9990281827016521\n"
     ]
    }
   ],
   "source": [
    "print(\"Accuracy: \",pipe.score(X_train,y_train))"
   ]
  },
  {
   "cell_type": "code",
   "execution_count": 86,
   "id": "49e08d93",
   "metadata": {},
   "outputs": [],
   "source": [
    "## Es una locura que nos de 0,999 de accuracy, no es un valor realista. Se nota a simple vista que nuestro modelo esta demasiado sobreajustado.\n",
    "## Procederemos a volver a trabajar nuestro modelo. Y evaluar otro modelo que pueda ayudarnos a clasificar nuestras oraciones en positivas o negativas."
   ]
  },
  {
   "cell_type": "code",
   "execution_count": 87,
   "id": "44345c78",
   "metadata": {},
   "outputs": [],
   "source": [
    "## Me habia quedado pendiente explicar como funciona CountVectorizer :"
   ]
  },
  {
   "cell_type": "code",
   "execution_count": 88,
   "id": "23ce1246",
   "metadata": {},
   "outputs": [],
   "source": [
    "## Utilizaremos CountVectorizer que nos lo da scikit-learn, para vectorizar oraciones. De esta manera se toma la palabra de cada oracion y podemos\n",
    "## crear un vocavulario para todas estas palabras que solo existen en mi \"vocabulario\".Para que sirve? podemos crear una columna que cuenta las veces\n",
    "## que se usa una palabra para saber su importancia para mi modelo."
   ]
  },
  {
   "cell_type": "code",
   "execution_count": 89,
   "id": "2d109a52",
   "metadata": {},
   "outputs": [],
   "source": [
    "oracion = ['juan comio un helado el mes pasado y le encanto', 'no em gusto jugar al rugby', 'Que lindo es jugar al aire libre']"
   ]
  },
  {
   "cell_type": "code",
   "execution_count": 90,
   "id": "d31dee9f",
   "metadata": {},
   "outputs": [
    {
     "data": {
      "text/plain": [
       "{'juan': 10,\n",
       " 'comio': 3,\n",
       " 'un': 19,\n",
       " 'helado': 9,\n",
       " 'el': 4,\n",
       " 'mes': 15,\n",
       " 'pasado': 17,\n",
       " 'le': 12,\n",
       " 'encanto': 6,\n",
       " 'no': 16,\n",
       " 'em': 5,\n",
       " 'gusto': 8,\n",
       " 'jugar': 11,\n",
       " 'al': 2,\n",
       " 'rugby': 18,\n",
       " 'Que': 0,\n",
       " 'lindo': 14,\n",
       " 'es': 7,\n",
       " 'aire': 1,\n",
       " 'libre': 13}"
      ]
     },
     "execution_count": 90,
     "metadata": {},
     "output_type": "execute_result"
    }
   ],
   "source": [
    "vectorizer = CountVectorizer(min_df = 0, lowercase=False)\n",
    "vectorizer.fit(oracion)\n",
    "vectorizer.vocabulary_\n"
   ]
  },
  {
   "cell_type": "code",
   "execution_count": 91,
   "id": "2711dfe9",
   "metadata": {},
   "outputs": [
    {
     "data": {
      "text/plain": [
       "array([[0, 0, 0, 1, 1, 0, 1, 0, 0, 1, 1, 0, 1, 0, 0, 1, 0, 1, 0, 1],\n",
       "       [0, 0, 1, 0, 0, 1, 0, 0, 1, 0, 0, 1, 0, 0, 0, 0, 1, 0, 1, 0],\n",
       "       [1, 1, 1, 0, 0, 0, 0, 1, 0, 0, 0, 1, 0, 1, 1, 0, 0, 0, 0, 0]],\n",
       "      dtype=int64)"
      ]
     },
     "execution_count": 91,
     "metadata": {},
     "output_type": "execute_result"
    }
   ],
   "source": [
    "vectorizer.transform(oracion).toarray()"
   ]
  },
  {
   "cell_type": "code",
   "execution_count": 92,
   "id": "d5aaaac4",
   "metadata": {},
   "outputs": [],
   "source": [
    "## Ahora si volvemos a poner manos a la obra, volvemos a agarrar nuestra fuente de informacion:"
   ]
  },
  {
   "cell_type": "code",
   "execution_count": 93,
   "id": "7b0d7369",
   "metadata": {},
   "outputs": [],
   "source": [
    "df_yelp = pd.read_table('yelp_labelled.txt')\n",
    "df_imdb = pd.read_table('imdb_labelled.txt')\n",
    "df_amz = pd.read_table('amazon_cells_labelled.txt')"
   ]
  },
  {
   "cell_type": "code",
   "execution_count": 94,
   "id": "2742fa62",
   "metadata": {},
   "outputs": [],
   "source": [
    " df_yelp.columns = [\"Message\",\"Target\"]"
   ]
  },
  {
   "cell_type": "code",
   "execution_count": 95,
   "id": "93e18ac3",
   "metadata": {},
   "outputs": [],
   "source": [
    "df_imdb.columns = [\"Message\",\"Target\"]"
   ]
  },
  {
   "cell_type": "code",
   "execution_count": 96,
   "id": "d179560f",
   "metadata": {},
   "outputs": [],
   "source": [
    "df_amz.columns = [\"Message\",\"Target\"]"
   ]
  },
  {
   "cell_type": "code",
   "execution_count": 97,
   "id": "08b8f9c9",
   "metadata": {},
   "outputs": [],
   "source": [
    "df_yelp[\"Source\"] = \"yelp\""
   ]
  },
  {
   "cell_type": "code",
   "execution_count": 98,
   "id": "da155ce2",
   "metadata": {},
   "outputs": [],
   "source": [
    "df_imdb[\"Source\"] = \"imdb\""
   ]
  },
  {
   "cell_type": "code",
   "execution_count": 99,
   "id": "fe6e866b",
   "metadata": {},
   "outputs": [],
   "source": [
    "df_amz[\"Source\"] = \"amz\""
   ]
  },
  {
   "cell_type": "code",
   "execution_count": 100,
   "id": "d6683257",
   "metadata": {},
   "outputs": [],
   "source": [
    "## Como no sabemos porque nos dio mal anteriormente, vamos a estudiarlos por separado por si hay aldun dataset que no funciona bien, ademas de eso\n",
    "## vamos a cambiar de modelo o \"algoritmo\" en busca de un mejor o mas \"real\" accuracy. "
   ]
  },
  {
   "cell_type": "code",
   "execution_count": 101,
   "id": "211213b2",
   "metadata": {},
   "outputs": [],
   "source": [
    "## Los juntamos pero los resultados los veremos por separado:"
   ]
  },
  {
   "cell_type": "code",
   "execution_count": 102,
   "id": "d7d251bf",
   "metadata": {},
   "outputs": [],
   "source": [
    "list_of_df=[df_yelp,df_imdb,df_amz]\n",
    "df = pd.concat(list_of_df)"
   ]
  },
  {
   "cell_type": "code",
   "execution_count": 103,
   "id": "fc674eef",
   "metadata": {},
   "outputs": [
    {
     "name": "stdout",
     "output_type": "stream",
     "text": [
      "<class 'pandas.core.frame.DataFrame'>\n",
      "Int64Index: 2745 entries, 0 to 998\n",
      "Data columns (total 3 columns):\n",
      " #   Column   Non-Null Count  Dtype \n",
      "---  ------   --------------  ----- \n",
      " 0   Message  2745 non-null   object\n",
      " 1   Target   2745 non-null   int64 \n",
      " 2   Source   2745 non-null   object\n",
      "dtypes: int64(1), object(2)\n",
      "memory usage: 85.8+ KB\n"
     ]
    }
   ],
   "source": [
    "df.info()"
   ]
  },
  {
   "cell_type": "code",
   "execution_count": 104,
   "id": "41b68edc",
   "metadata": {},
   "outputs": [
    {
     "data": {
      "text/plain": [
       "8235"
      ]
     },
     "execution_count": 104,
     "metadata": {},
     "output_type": "execute_result"
    }
   ],
   "source": [
    "df.size"
   ]
  },
  {
   "cell_type": "code",
   "execution_count": 105,
   "id": "a42c05fc",
   "metadata": {},
   "outputs": [
    {
     "data": {
      "text/html": [
       "<div>\n",
       "<style scoped>\n",
       "    .dataframe tbody tr th:only-of-type {\n",
       "        vertical-align: middle;\n",
       "    }\n",
       "\n",
       "    .dataframe tbody tr th {\n",
       "        vertical-align: top;\n",
       "    }\n",
       "\n",
       "    .dataframe thead th {\n",
       "        text-align: right;\n",
       "    }\n",
       "</style>\n",
       "<table border=\"1\" class=\"dataframe\">\n",
       "  <thead>\n",
       "    <tr style=\"text-align: right;\">\n",
       "      <th></th>\n",
       "      <th>Message</th>\n",
       "      <th>Target</th>\n",
       "      <th>Source</th>\n",
       "    </tr>\n",
       "  </thead>\n",
       "  <tbody>\n",
       "    <tr>\n",
       "      <th>0</th>\n",
       "      <td>Crust is not good.</td>\n",
       "      <td>0</td>\n",
       "      <td>yelp</td>\n",
       "    </tr>\n",
       "    <tr>\n",
       "      <th>1</th>\n",
       "      <td>Not tasty and the texture was just nasty.</td>\n",
       "      <td>0</td>\n",
       "      <td>yelp</td>\n",
       "    </tr>\n",
       "    <tr>\n",
       "      <th>2</th>\n",
       "      <td>Stopped by during the late May bank holiday of...</td>\n",
       "      <td>1</td>\n",
       "      <td>yelp</td>\n",
       "    </tr>\n",
       "    <tr>\n",
       "      <th>3</th>\n",
       "      <td>The selection on the menu was great and so wer...</td>\n",
       "      <td>1</td>\n",
       "      <td>yelp</td>\n",
       "    </tr>\n",
       "    <tr>\n",
       "      <th>4</th>\n",
       "      <td>Now I am getting angry and I want my damn pho.</td>\n",
       "      <td>0</td>\n",
       "      <td>yelp</td>\n",
       "    </tr>\n",
       "  </tbody>\n",
       "</table>\n",
       "</div>"
      ],
      "text/plain": [
       "                                             Message  Target Source\n",
       "0                                 Crust is not good.       0   yelp\n",
       "1          Not tasty and the texture was just nasty.       0   yelp\n",
       "2  Stopped by during the late May bank holiday of...       1   yelp\n",
       "3  The selection on the menu was great and so wer...       1   yelp\n",
       "4     Now I am getting angry and I want my damn pho.       0   yelp"
      ]
     },
     "execution_count": 105,
     "metadata": {},
     "output_type": "execute_result"
    }
   ],
   "source": [
    "df.head()"
   ]
  },
  {
   "cell_type": "code",
   "execution_count": 106,
   "id": "bf83422a",
   "metadata": {},
   "outputs": [
    {
     "name": "stdout",
     "output_type": "stream",
     "text": [
      "                                               Message  Target Source\n",
      "0                                   Crust is not good.       0   yelp\n",
      "1            Not tasty and the texture was just nasty.       0   yelp\n",
      "2    Stopped by during the late May bank holiday of...       1   yelp\n",
      "3    The selection on the menu was great and so wer...       1   yelp\n",
      "4       Now I am getting angry and I want my damn pho.       0   yelp\n",
      "..                                                 ...     ...    ...\n",
      "994  The screen does get smudged easily because it ...       0    amz\n",
      "995  What a piece of junk.. I lose more calls on th...       0    amz\n",
      "996                       Item Does Not Match Picture.       0    amz\n",
      "997  The only thing that disappoint me is the infra...       0    amz\n",
      "998  You can not answer calls with the unit, never ...       0    amz\n",
      "\n",
      "[2745 rows x 3 columns]\n"
     ]
    }
   ],
   "source": [
    "print(df)"
   ]
  },
  {
   "cell_type": "code",
   "execution_count": 107,
   "id": "ff07486d",
   "metadata": {},
   "outputs": [],
   "source": [
    "## Decidi elejir como modelo a entrenar a una regresion logisitca, LogisticRegression o tambien conocido como clasificador de máxima entropía. \n",
    "## es un tipo de análisis de regresión utilizado para predecir el resultado de una variable categórica como en nuestro caso, en base a otros datos\n",
    "## con los que entrenaremos el modelo.\n",
    "\n",
    "## Ademas de cambiar el modelo voy a comnezar utilizando un solo DataSet para escapar a posibilidades de estar teniendo problemas por datos que \n",
    "## manchen nuestro modelo."
   ]
  },
  {
   "cell_type": "code",
   "execution_count": 108,
   "id": "fd61f77a",
   "metadata": {},
   "outputs": [],
   "source": [
    "df_yelp = df[df['Source'] == 'yelp']\n",
    "sentences = df_yelp['Message'].values\n",
    "y = df_yelp['Target'].values\n",
    "\n",
    "sentences_train, sentences_test, y_train, y_test = train_test_split(sentences, y, test_size=0.25, random_state=1000)"
   ]
  },
  {
   "cell_type": "code",
   "execution_count": 109,
   "id": "e7bdf4e7",
   "metadata": {},
   "outputs": [],
   "source": [
    "vectorizer = CountVectorizer()\n",
    "vectorizer.fit(sentences_train)\n",
    "\n",
    "X_train = vectorizer.transform(sentences_train)\n",
    "X_test  = vectorizer.transform(sentences_test)"
   ]
  },
  {
   "cell_type": "code",
   "execution_count": 110,
   "id": "bb730ec9",
   "metadata": {},
   "outputs": [
    {
     "name": "stdout",
     "output_type": "stream",
     "text": [
      "Accuracy: 0.808\n"
     ]
    }
   ],
   "source": [
    "from sklearn.linear_model import LogisticRegression\n",
    "\n",
    "classifier = LogisticRegression()\n",
    "classifier.fit(X_train, y_train)\n",
    "score = classifier.score(X_test, y_test)\n",
    "\n",
    "print(\"Accuracy:\", score)"
   ]
  },
  {
   "cell_type": "code",
   "execution_count": 111,
   "id": "d1398fcc",
   "metadata": {},
   "outputs": [],
   "source": [
    "## Ahora si, es un Accuracy mucho mas realista que el anterior, no parece estar sobreajustado a simple vista, para terminar de confirmar que este \n",
    "## modelo se desempeña bien con todos los datasets, probamos el modelo en cada uno por separado y evaluamos sus scores."
   ]
  },
  {
   "cell_type": "code",
   "execution_count": 112,
   "id": "963069de",
   "metadata": {},
   "outputs": [
    {
     "name": "stdout",
     "output_type": "stream",
     "text": [
      "Accuracy for yelp data: 0.8080\n",
      "Accuracy for imdb data: 0.7380\n",
      "Accuracy for amz data: 0.8120\n"
     ]
    }
   ],
   "source": [
    "for source in df['Source'].unique():\n",
    "    df_source = df[df['Source'] == source]\n",
    "    sentences = df_source['Message'].values\n",
    "    y = df_source['Target'].values\n",
    "\n",
    "    sentences_train, sentences_test, y_train, y_test = train_test_split(\n",
    "        sentences, y, test_size=0.25, random_state=1000)\n",
    "\n",
    "    vectorizerrr = CountVectorizer()\n",
    "    vectorizerrr.fit(sentences_train)\n",
    "    X_train = vectorizerrr.transform(sentences_train)\n",
    "    X_test  = vectorizerrr.transform(sentences_test)\n",
    "\n",
    "    classifiere = LogisticRegression()\n",
    "    classifier.fit(X_train, y_train)\n",
    "    score = classifier.score(X_test, y_test)\n",
    "    print('Accuracy for {} data: {:.4f}'.format(source, score))"
   ]
  },
  {
   "cell_type": "code",
   "execution_count": 113,
   "id": "51e6fe8a",
   "metadata": {},
   "outputs": [],
   "source": [
    "## Gran resultado. Parece tener un buen scro nuestro modelo. Vamo a juntar ahora si los tres dataset para ver como se complementan. Por ahora vamos\n",
    "## por buen camino."
   ]
  },
  {
   "cell_type": "code",
   "execution_count": 114,
   "id": "c8eff2cf",
   "metadata": {},
   "outputs": [
    {
     "name": "stdout",
     "output_type": "stream",
     "text": [
      "Final Accuracy 0.8326055312954876\n"
     ]
    }
   ],
   "source": [
    "sentences = df['Message'].values\n",
    "y = df['Target'].values\n",
    "\n",
    "sentences_train, sentences_test, y_train, y_test = train_test_split(sentences, y, test_size=0.25, random_state=1000)\n",
    "\n",
    "vectorizer = CountVectorizer()\n",
    "vectorizer.fit(sentences_train)\n",
    "X_train = vectorizer.transform(sentences_train)\n",
    "X_test  = vectorizer.transform(sentences_test)\n",
    "\n",
    "classifiere = LogisticRegression()\n",
    "classifiere.fit(X_train, y_train)\n",
    "score = classifiere.score(X_test, y_test)\n",
    "print('Final Accuracy {}'.format(score))\n",
    "\n"
   ]
  },
  {
   "cell_type": "code",
   "execution_count": 115,
   "id": "7f1d4e74",
   "metadata": {},
   "outputs": [],
   "source": [
    "## Gran accuracy para terminar de entrenar nuestro modelo."
   ]
  },
  {
   "cell_type": "code",
   "execution_count": 116,
   "id": "d6c3e707",
   "metadata": {},
   "outputs": [],
   "source": [
    "import matplotlib.pyplot as plt\n",
    "import seaborn as sns\n",
    "from sklearn.model_selection import train_test_split\n",
    "from sklearn.linear_model import LogisticRegression\n",
    "from sklearn import metrics"
   ]
  },
  {
   "cell_type": "code",
   "execution_count": 117,
   "id": "6664d196",
   "metadata": {},
   "outputs": [
    {
     "data": {
      "image/png": "[encoded data removed]",
      "text/plain": [
       "<Figure size 640x480 with 1 Axes>"
      ]
     },
     "metadata": {},
     "output_type": "display_data"
    }
   ],
   "source": [
    "#define metrics\n",
    "y_pred_proba = classifiere.predict_proba(X_test)[::,1]\n",
    "fpr, tpr, _ = metrics.roc_curve(y_test,  y_pred_proba)\n",
    "\n",
    "#create ROC curve\n",
    "plt.plot(fpr,tpr)\n",
    "plt.ylabel('True Positive Rate')\n",
    "plt.xlabel('False Positive Rate')\n",
    "plt.show()"
   ]
  },
  {
   "cell_type": "code",
   "execution_count": 118,
   "id": "f42ad52d",
   "metadata": {},
   "outputs": [],
   "source": [
    "## No solo tuvimos un gran Accuracy sino que tambien nuestra curva ROC nos muestra que nuestro modelo tiene buena sensibilidad, una buena\n",
    "## representacion de verdaderos positivos frente a la razon de falsos positivos. Parece que este modelo, ya tenemos varias justificaciones para\n",
    "## elegirlo como el modelo ganador hasta ahora."
   ]
  },
  {
   "cell_type": "code",
   "execution_count": 119,
   "id": "40dd3938",
   "metadata": {},
   "outputs": [
    {
     "data": {
      "image/png": "[encoded data removed]",
      "text/plain": [
       "<Figure size 640x480 with 1 Axes>"
      ]
     },
     "metadata": {},
     "output_type": "display_data"
    }
   ],
   "source": [
    "#define metrics\n",
    "y_pred_proba = classifiere.predict_proba(X_test)[::,1]\n",
    "fpr, tpr, _ = metrics.roc_curve(y_test,  y_pred_proba)\n",
    "auc = metrics.roc_auc_score(y_test, y_pred_proba)\n",
    "\n",
    "#create ROC curve\n",
    "plt.plot(fpr,tpr,label=\"AUC=\"+str(auc))\n",
    "plt.ylabel('True Positive Rate')\n",
    "plt.xlabel('False Positive Rate')\n",
    "plt.legend(loc=4)\n",
    "plt.show()"
   ]
  },
  {
   "cell_type": "code",
   "execution_count": 120,
   "id": "95f37035",
   "metadata": {},
   "outputs": [],
   "source": [
    "## Observamos un exelente valor tambien de AUC, un area debajo de la curva ROC de 0.895627.\n",
    "## El modelo se desempeña bien."
   ]
  },
  {
   "cell_type": "code",
   "execution_count": 121,
   "id": "8eeac529",
   "metadata": {},
   "outputs": [
    {
     "data": {
      "image/png": "[encoded data removed]",
      "text/plain": [
       "<Figure size 900x900 with 2 Axes>"
      ]
     },
     "metadata": {},
     "output_type": "display_data"
    }
   ],
   "source": [
    "import matplotlib.pyplot as plt\n",
    "import seaborn as sns\n",
    "from sklearn import metrics\n",
    "\n",
    "predictions = classifiere.predict(X_test)\n",
    "\n",
    "cm = metrics.confusion_matrix(y_test, predictions)\n",
    "plt.figure(figsize=(9,9))\n",
    "sns.heatmap(cm, annot=True, fmt=\".3f\", linewidths=.5, square = True, cmap = 'Blues_r');\n",
    "plt.ylabel('Actual label');\n",
    "plt.xlabel('Predicted label');\n",
    "all_sample_title = 'Accuracy Score: {0}'.format(score)\n",
    "plt.title(all_sample_title, size = 15);"
   ]
  },
  {
   "cell_type": "code",
   "execution_count": 122,
   "id": "94860888",
   "metadata": {},
   "outputs": [
    {
     "name": "stdout",
     "output_type": "stream",
     "text": [
      "Verdaderos Positivos: 255.000\n",
      "Verdaderos Negativos: 317.000\n",
      "Error tipo 1 = Falsos Positivos : 55.000\n",
      "Error tipo 2 = Falsos Negativos : 60.000\n"
     ]
    }
   ],
   "source": [
    "print(\"Verdaderos Positivos: 255.000\")\n",
    "print(\"Verdaderos Negativos: 317.000\")\n",
    "print(\"Error tipo 1 = Falsos Positivos : 55.000\")\n",
    "print(\"Error tipo 2 = Falsos Negativos : 60.000\")"
   ]
  },
  {
   "cell_type": "code",
   "execution_count": 123,
   "id": "b61122ee",
   "metadata": {},
   "outputs": [],
   "source": [
    "## Para finalizar la eleccion del modelo observamos como ya habiamos visto un gran accuracy y un promedio aceptable de errores tipo 1 y 2 sin \n",
    "## priorizar ninguno, y sin notar al modelo sobreajustado."
   ]
  },
  {
   "cell_type": "code",
   "execution_count": null,
   "id": "475c5749",
   "metadata": {},
   "outputs": [],
   "source": []
  },
  {
   "cell_type": "code",
   "execution_count": 124,
   "id": "c0ecfa8f",
   "metadata": {},
   "outputs": [],
   "source": [
    "## Ahora si a procesar nuestros datos parseados de distintas fuentes y modificados para aumentar el performance de nuestro modelo."
   ]
  },
  {
   "cell_type": "code",
   "execution_count": 125,
   "id": "d55175d1",
   "metadata": {},
   "outputs": [],
   "source": [
    "## Decidi no usar pipes en este modelo, realizamos nuestro modelo en ua funcion tradicional:"
   ]
  },
  {
   "cell_type": "code",
   "execution_count": 126,
   "id": "abad9f90",
   "metadata": {},
   "outputs": [],
   "source": [
    "def predecir_sentimiento_de_oracion(sentence):\n",
    "    sentences = df['Message'].values\n",
    "    y = df['Target'].values\n",
    "\n",
    "    sentences_train, sentences_test, y_train, y_test = train_test_split(sentences, y, test_size=0.25, random_state=1000)\n",
    "\n",
    "    vectorizer = CountVectorizer()\n",
    "    vectorizer.fit(sentences_train)\n",
    "    X_train = vectorizer.transform(sentences_train)\n",
    "    X_test  = vectorizer.transform(sentences_test)\n",
    "\n",
    "\n",
    "    classifiere = LogisticRegression()\n",
    "    classifiere.fit(X_train, y_train)\n",
    "    predict = vectorizer.transform(sentence)\n",
    "    return classifiere.predict(predict)"
   ]
  },
  {
   "cell_type": "code",
   "execution_count": 127,
   "id": "0cfa24d4",
   "metadata": {},
   "outputs": [],
   "source": [
    "## Dividimos en subtareas, para que sea mas prolija la prediccion:"
   ]
  },
  {
   "cell_type": "code",
   "execution_count": 128,
   "id": "5a55f933",
   "metadata": {},
   "outputs": [],
   "source": [
    "predictions = []\n",
    "def predecir_sentimiento_de_oraciones(sentences):\n",
    "    df_to_predict = pd.DataFrame()\n",
    "    df_to_predict['Message'] = sentences\n",
    "    df_to_predict['Message'].values\n",
    "    for sentence in sentences:\n",
    "        sentenceArrive = []\n",
    "        sentenceArrive.append(sentence)\n",
    "        predictions.append(predecir_sentimiento_de_oracion(sentenceArrive))\n",
    "    return predictions\n",
    "        \n",
    "        "
   ]
  },
  {
   "cell_type": "code",
   "execution_count": 129,
   "id": "d878dd7a",
   "metadata": {},
   "outputs": [],
   "source": [
    "## Modelo terminado, con ejecutar una funcion y nuestros datos, ya estamos en posicion de poder predecir con nuestro modelo:"
   ]
  },
  {
   "cell_type": "code",
   "execution_count": 130,
   "id": "e294e548",
   "metadata": {},
   "outputs": [
    {
     "data": {
      "text/plain": [
       "[array([1], dtype=int64),\n",
       " array([1], dtype=int64),\n",
       " array([0], dtype=int64),\n",
       " array([0], dtype=int64),\n",
       " array([0], dtype=int64),\n",
       " array([0], dtype=int64),\n",
       " array([0], dtype=int64),\n",
       " array([1], dtype=int64),\n",
       " array([0], dtype=int64),\n",
       " array([0], dtype=int64),\n",
       " array([0], dtype=int64),\n",
       " array([0], dtype=int64),\n",
       " array([1], dtype=int64),\n",
       " array([1], dtype=int64),\n",
       " array([0], dtype=int64),\n",
       " array([1], dtype=int64),\n",
       " array([0], dtype=int64),\n",
       " array([0], dtype=int64),\n",
       " array([0], dtype=int64),\n",
       " array([1], dtype=int64),\n",
       " array([0], dtype=int64),\n",
       " array([0], dtype=int64),\n",
       " array([1], dtype=int64),\n",
       " array([1], dtype=int64),\n",
       " array([1], dtype=int64),\n",
       " array([0], dtype=int64),\n",
       " array([0], dtype=int64)]"
      ]
     },
     "execution_count": 130,
     "metadata": {},
     "output_type": "execute_result"
    }
   ],
   "source": [
    "predictionsToDataBase = []\n",
    "predictionsToDataBase = predecir_sentimiento_de_oraciones(bitcoinNewsToPredict)\n",
    "predictionsToDataBase"
   ]
  },
  {
   "cell_type": "code",
   "execution_count": 131,
   "id": "c3469f62",
   "metadata": {},
   "outputs": [],
   "source": [
    "## Ya habiendo predecido los datos, estamos listos para comenzar la etapa del paso de la informacion a nuestra Base de datos, para poder\n",
    "## controlar como esta funcionando nuestro modelo con el paso de los dias."
   ]
  },
  {
   "cell_type": "code",
   "execution_count": null,
   "id": "d18db35e",
   "metadata": {},
   "outputs": [],
   "source": []
  },
  {
   "cell_type": "code",
   "execution_count": 132,
   "id": "01a179a1",
   "metadata": {},
   "outputs": [],
   "source": [
    "import pymysql\n",
    "from datetime import date"
   ]
  },
  {
   "cell_type": "code",
   "execution_count": 133,
   "id": "3fb3fe57",
   "metadata": {},
   "outputs": [],
   "source": [
    "##    - CODIGO SIMPLE SQL:\n",
    "##\n",
    "##     CREATE TABLE result(\n",
    "##     execute_date VARCHAR(20), ## No lo hago DATETIME ya que no vamos a trabajr con la BD y ahorra un par de problemitas.\n",
    "##     sentiment INTEGER,\n",
    "##     frequency VARCHAR(8000),\n",
    "##     PRIMARY KEY (execute_date) \n",
    "##     )\n",
    "##"
   ]
  },
  {
   "cell_type": "code",
   "execution_count": 142,
   "id": "50f33c60",
   "metadata": {},
   "outputs": [],
   "source": [
    "class Database():\n",
    "    def __init__(self):\n",
    "        self.connection = pymysql.connect(\n",
    "        host = 'localhost',\n",
    "        user = 'root',\n",
    "        password = 'utnso',\n",
    "        db ='machine_learning_model_pln',\n",
    "        autocommit=True\n",
    "    )\n",
    "        self.cursor = self.connection.cursor()\n",
    "        print(\"La conexion fue exitosa\")\n",
    "        \n",
    "    def create_result(self, date, model_sentiment, human_sentiment, frequency):\n",
    "        try:\n",
    "            query = \"INSERT INTO result (execute_date, model_sentiment ,human_sentiment, frequency) VALUES ('{}','{}','{}','{}')\".format(date, model_sentiment, human_sentiment ,frequency)\n",
    "            self.cursor.execute(query)\n",
    "            self.connection.commit      ## Aseguro que los cambio se hayan hechos.\n",
    "        except Exception as e:\n",
    "            print(\"No se insertaron los datos en la base de datos.\")\n",
    "            raise"
   ]
  },
  {
   "cell_type": "code",
   "execution_count": 143,
   "id": "d84eaf74",
   "metadata": {},
   "outputs": [
    {
     "name": "stdout",
     "output_type": "stream",
     "text": [
      "La conexion fue exitosa\n"
     ]
    }
   ],
   "source": [
    "mydb = Database()"
   ]
  },
  {
   "cell_type": "code",
   "execution_count": 144,
   "id": "e6822f8e",
   "metadata": {},
   "outputs": [],
   "source": [
    "def process_feelings(sentimientos):\n",
    "    totalPositivo = 0\n",
    "    totalesSentimientos = 0\n",
    "    for i in predictionsToDataBase:\n",
    "        totalPositivo += sum(i) \n",
    "        totalesSentimientos += 1\n",
    "    if totalPositivo >= (totalesSentimientos / 2 ):\n",
    "        return 1\n",
    "    else:\n",
    "        return 0  \n",
    "    \n",
    "def model_to_human_sentiment(model_sentiment):\n",
    "    match model_sentiment:\n",
    "        case 0:\n",
    "             return \"NEGATIVO\"\n",
    "        case 1:\n",
    "             return \"POSITIVO\"\n",
    "        case _:\n",
    "             print(\"No se envio un sentimiento de modelo para convertir\")\n",
    "\n",
    "def bitcoinNews_to_predict_to_frecuency_db(bitcoinNews):\n",
    "    return ', '.join(bitcoinNewsToPredict)"
   ]
  },
  {
   "cell_type": "code",
   "execution_count": 145,
   "id": "f43aff84",
   "metadata": {},
   "outputs": [
    {
     "name": "stdout",
     "output_type": "stream",
     "text": [
      "model_prediction_sentiment:  0\n",
      "human_sentiment:  NEGATIVO\n"
     ]
    }
   ],
   "source": [
    "model_prediction_sentiment = process_feelings(predictionsToDataBase)\n",
    "print(\"model_prediction_sentiment: \",model_prediction_sentiment)\n",
    "human_sentiment = model_to_human_sentiment(model_prediction_sentiment)\n",
    "print(\"human_sentiment: \",human_sentiment)"
   ]
  },
  {
   "cell_type": "code",
   "execution_count": 146,
   "id": "edfa77db",
   "metadata": {},
   "outputs": [
    {
     "name": "stdout",
     "output_type": "stream",
     "text": [
      "Tipo de dato model_prediction_sentiment:  <class 'int'>\n",
      "Tipo de dato human_sentiment:  <class 'str'>\n"
     ]
    }
   ],
   "source": [
    "print(\"Tipo de dato model_prediction_sentiment: \", type(model_prediction_sentiment) )\n",
    "print(\"Tipo de dato human_sentiment: \", type(human_sentiment) )"
   ]
  },
  {
   "cell_type": "code",
   "execution_count": 147,
   "id": "16162ba9",
   "metadata": {},
   "outputs": [
    {
     "name": "stdout",
     "output_type": "stream",
     "text": [
      "10/31/2022\n",
      "Fecha Actual :  10/31/2022\n",
      "Tipo de dato today:  <class 'str'>\n"
     ]
    }
   ],
   "source": [
    "today = date.today().strftime(\"%m/%d/%Y\")\n",
    "print(today)\n",
    "print(\"Fecha Actual : \", today) \n",
    "print(\"Tipo de dato today: \", type(today) )"
   ]
  },
  {
   "cell_type": "code",
   "execution_count": 148,
   "id": "01262ec6",
   "metadata": {},
   "outputs": [
    {
     "name": "stdout",
     "output_type": "stream",
     "text": [
      "Frecuency:  Despite bear market Elon Musk holds US 218 million Bitcoin reported Decrypt, BTC current price US 20,124.30 28 October 24-hour trading volume US 923.07 million, Based Bloomberg Bitcoin retail trading legalized Hong Kong despite crypto ban China, Trick Or Treat For Bitcoin On Halloween Night BTCUSD Analysis October 31 2022, Bitcoin Nearing Retest Of Realized Price Will Bulls Break Resistance This Time, Why Bitcoin Will Crush Opposition At 21,000 Green November In The Making, Bitcoin Mining Firm Core Scientific Stock Plunges Amid Bankruptcy Rumors, Analyst Highlights Key Factors To Notice Following Recent Bitcoin Price Hike, Bitcoin Whales Who Bought 1 Month Ago Hold Strong Despite Chance To Take Profit, Why This Bitcoin Indicator Points To Bullish Double Bottom, Bitcoin Bearish Signal Exchanges Receiving Large Deposits, Bitcoin Declines Slightly As Short-Term Holders Take Profits, Will A Bankruptcy Of Bitcoin Miner Core Scientific Impact The Price, Can Elon Musk Influence The Next US Election, Bitcoin Price Loses Steam At 20,500 Earnings Season Plays Against Crypto, Ethereum flashes classic bullish pattern Bitcoin pair hinting 50 upside, 2 metrics signal 1T crypto market cap support likely won t hold, Bitcoin fails break 21K support bears remain shy, Why crypto market today, 14 years Bitcoin white paper Why matters, Bitcoin double excites bulls NVT signal predicts major, Argo Blockchain risk closing fails financing, Here tips crypto community bear market, BTC price sees double FOMC 5 things know Bitcoin week, BTC price struggles 21K trader says top Bitcoin Ethereum, Bitcoin metric warns 21K profit-taking decade-old BTC wakes, Bitcoin hits new 6-week high Ethereum liquidates 240M shorts\n",
      "Tipo de dato frecuency:  <class 'str'>\n"
     ]
    }
   ],
   "source": [
    "frecuency = bitcoinNews_to_predict_to_frecuency_db(bitcoinNews)\n",
    "print(\"Frecuency: \", frecuency) \n",
    "print(\"Tipo de dato frecuency: \", type(frecuency) )"
   ]
  },
  {
   "cell_type": "code",
   "execution_count": null,
   "id": "3b07d45a",
   "metadata": {},
   "outputs": [],
   "source": [
    "mydb.create_result(today, model_prediction_sentiment, human_sentiment, frecuency)"
   ]
  },
  {
   "cell_type": "code",
   "execution_count": null,
   "id": "887422d0",
   "metadata": {},
   "outputs": [],
   "source": []
  },
  {
   "cell_type": "code",
   "execution_count": null,
   "id": "9687b454",
   "metadata": {},
   "outputs": [],
   "source": []
  }
 ],
 "metadata": {
  "kernelspec": {
   "display_name": "dhenv",
   "language": "python",
   "name": "myenv"
  },
  "language_info": {
   "codemirror_mode": {
    "name": "ipython",
    "version": 3
   },
   "file_extension": ".py",
   "mimetype": "text/x-python",
   "name": "python",
   "nbconvert_exporter": "python",
   "pygments_lexer": "ipython3",
   "version": "3.10.6"
  }
 },
 "nbformat": 4,
 "nbformat_minor": 5
}
